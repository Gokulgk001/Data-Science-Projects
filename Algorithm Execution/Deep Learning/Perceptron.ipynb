{
 "cells": [
  {
   "cell_type": "code",
   "execution_count": 1,
   "id": "20cf6cc7",
   "metadata": {},
   "outputs": [],
   "source": [
    "import numpy as np\n"
   ]
  },
  {
   "cell_type": "code",
   "execution_count": 5,
   "id": "af2bc99f",
   "metadata": {},
   "outputs": [
    {
     "name": "stdout",
     "output_type": "stream",
     "text": [
      "Input: [2 3], Predicted: 1\n",
      "Input: [0 1], Predicted: 1\n",
      "Input: [5 2], Predicted: 1\n",
      "Input: [2 1], Predicted: 1\n"
     ]
    }
   ],
   "source": [
    "def step_function(x):\n",
    "    \"\"\"Step function.\"\"\"\n",
    "    return 1 if x >= 0 else 0\n",
    "\n",
    "class Perceptron:\n",
    "    def __init__(self, input_size, learning_rate=0.01):\n",
    "        self.weights = np.zeros(input_size)\n",
    "        self.bias = 0\n",
    "        self.learning_rate = 0\n",
    "\n",
    "    def predict(self,x):\n",
    "        weighted_sum = np.dot(self.weights, x) + self.bias\n",
    "        return step_function(weighted_sum)\n",
    "    \n",
    "    def train(self, x, y, epochs):\n",
    "        for epoch in range(epochs):\n",
    "            for xi,yi in zip(x, y):\n",
    "                y_pred = self.predict(xi)\n",
    "                error = yi - y_pred\n",
    "                self.weights += self.learning_rate * error * xi\n",
    "                self.bias += self.learning_rate * error\n",
    "\n",
    "#generating own dataset\n",
    "\n",
    "x= np.array([[2, 3], [0, 1], [5, 2], [2, 1]])\n",
    "y= np.array([1, 1, 1, 0])\n",
    "perceptron= Perceptron(input_size=2, learning_rate=0.1)\n",
    "perceptron.train(x, y, epochs=10)\n",
    "\n",
    "for xi in x:\n",
    "    print(f\"Input: {xi}, Predicted: {perceptron.predict(xi)}\")\n",
    "               \n"
   ]
  },
  {
   "cell_type": "code",
   "execution_count": 6,
   "id": "a1e2f37d",
   "metadata": {},
   "outputs": [
    {
     "name": "stdout",
     "output_type": "stream",
     "text": [
      "Accuracy: 90.00%\n"
     ]
    },
    {
     "name": "stderr",
     "output_type": "stream",
     "text": [
      "c:\\Users\\gokul\\AppData\\Local\\Programs\\Python\\Python313\\Lib\\site-packages\\sklearn\\neural_network\\_multilayer_perceptron.py:691: ConvergenceWarning: Stochastic Optimizer: Maximum iterations (1000) reached and the optimization hasn't converged yet.\n",
      "  warnings.warn(\n"
     ]
    }
   ],
   "source": [
    "from sklearn.neural_network import MLPClassifier\n",
    "from sklearn.datasets import make_moons\n",
    "from sklearn.model_selection import train_test_split\n",
    "from sklearn.metrics import accuracy_score\n",
    "import matplotlib.pyplot as plt\n",
    "\n",
    "x,y= make_moons(n_samples=200, noise=0.2, random_state=42)\n",
    "x_train, x_test, y_train, y_test= train_test_split(x, y, test_size=0.2, random_state=42)\n",
    "mlp= MLPClassifier(hidden_layer_sizes=(10,5),activation='relu',solver='adam',max_iter=1000)\n",
    "mlp.fit(x_train, y_train)\n",
    "\n",
    "accuracy= accuracy_score(y_test, mlp.predict(x_test))\n",
    "print(f\"Accuracy: {accuracy*100:.2f}%\")"
   ]
  },
  {
   "cell_type": "code",
   "execution_count": null,
   "id": "0c54291a",
   "metadata": {},
   "outputs": [],
   "source": []
  }
 ],
 "metadata": {
  "kernelspec": {
   "display_name": "Python 3",
   "language": "python",
   "name": "python3"
  },
  "language_info": {
   "codemirror_mode": {
    "name": "ipython",
    "version": 3
   },
   "file_extension": ".py",
   "mimetype": "text/x-python",
   "name": "python",
   "nbconvert_exporter": "python",
   "pygments_lexer": "ipython3",
   "version": "3.13.1"
  }
 },
 "nbformat": 4,
 "nbformat_minor": 5
}
